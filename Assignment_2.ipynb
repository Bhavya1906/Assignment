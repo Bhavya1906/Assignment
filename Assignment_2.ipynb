{
 "cells": [
  {
   "cell_type": "code",
   "execution_count": null,
   "id": "815ad296",
   "metadata": {},
   "outputs": [],
   "source": [
    "1.What are the two values of the Boolean data type? How do you write them?\n",
    "\n",
    "The two values of the boolean data tpyes are True and False. \n",
    "For example, 1==1 is True whereas 2<1 is False."
   ]
  },
  {
   "cell_type": "code",
   "execution_count": null,
   "id": "ad7219ec",
   "metadata": {},
   "outputs": [],
   "source": [
    "2. What are the three different types of Boolean operators?\n",
    "\n",
    "or\n",
    "and\n",
    "not"
   ]
  },
  {
   "cell_type": "code",
   "execution_count": null,
   "id": "63e66f1e",
   "metadata": {},
   "outputs": [],
   "source": [
    "3. Make a list of each Boolean operator's truth tables \n",
    "(i.e. every possible combination of Boolean\n",
    "values for the operator and what it evaluate )."
   ]
  },
  {
   "cell_type": "code",
   "execution_count": null,
   "id": "b56c405c",
   "metadata": {},
   "outputs": [],
   "source": [
    "  A        B       A and B\n",
    "True     True       True\n",
    "True     False      False\n",
    "False    True       False\n",
    "False    False      False\n",
    "\n",
    "\n",
    "  A        B       A or B\n",
    "True     True       True\n",
    "True     False      True\n",
    "False    True       True\n",
    "False    False      False\n",
    "\n",
    "  A     Not A\n",
    "True    False\n",
    "False   True"
   ]
  },
  {
   "cell_type": "code",
   "execution_count": null,
   "id": "0dae5508",
   "metadata": {},
   "outputs": [],
   "source": [
    "4. What are the values of the following expressions?"
   ]
  },
  {
   "cell_type": "code",
   "execution_count": 1,
   "id": "4758e320",
   "metadata": {},
   "outputs": [
    {
     "data": {
      "text/plain": [
       "False"
      ]
     },
     "execution_count": 1,
     "metadata": {},
     "output_type": "execute_result"
    }
   ],
   "source": [
    "(5>4) and (3==5)"
   ]
  },
  {
   "cell_type": "code",
   "execution_count": 2,
   "id": "b3211cdf",
   "metadata": {},
   "outputs": [
    {
     "data": {
      "text/plain": [
       "False"
      ]
     },
     "execution_count": 2,
     "metadata": {},
     "output_type": "execute_result"
    }
   ],
   "source": [
    "not (5>4)"
   ]
  },
  {
   "cell_type": "code",
   "execution_count": 3,
   "id": "b742f355",
   "metadata": {},
   "outputs": [
    {
     "data": {
      "text/plain": [
       "True"
      ]
     },
     "execution_count": 3,
     "metadata": {},
     "output_type": "execute_result"
    }
   ],
   "source": [
    "(5>4) or (3==5)"
   ]
  },
  {
   "cell_type": "code",
   "execution_count": 4,
   "id": "b246122e",
   "metadata": {},
   "outputs": [
    {
     "data": {
      "text/plain": [
       "False"
      ]
     },
     "execution_count": 4,
     "metadata": {},
     "output_type": "execute_result"
    }
   ],
   "source": [
    "not((5>4) or (3==5))"
   ]
  },
  {
   "cell_type": "code",
   "execution_count": 5,
   "id": "289e36a3",
   "metadata": {},
   "outputs": [
    {
     "data": {
      "text/plain": [
       "False"
      ]
     },
     "execution_count": 5,
     "metadata": {},
     "output_type": "execute_result"
    }
   ],
   "source": [
    "(True and True) and (True == False)"
   ]
  },
  {
   "cell_type": "code",
   "execution_count": 6,
   "id": "23ca9114",
   "metadata": {},
   "outputs": [
    {
     "data": {
      "text/plain": [
       "True"
      ]
     },
     "execution_count": 6,
     "metadata": {},
     "output_type": "execute_result"
    }
   ],
   "source": [
    "(not False) or (not True)"
   ]
  },
  {
   "cell_type": "code",
   "execution_count": null,
   "id": "0f047fde",
   "metadata": {},
   "outputs": [],
   "source": [
    "5. What are the six comparison operators?\n",
    "\n",
    ">\n",
    "<\n",
    ">=\n",
    "<=\n",
    "==\n",
    "!="
   ]
  },
  {
   "cell_type": "code",
   "execution_count": null,
   "id": "b334b7d5",
   "metadata": {},
   "outputs": [],
   "source": [
    "6. How do you tell the difference between the equal to and assignment operators?Describe a\n",
    "condition and when you would use one.\n",
    "\n",
    "= operator: The \"=\" is an assignment operator is used to assign the value on the right to the variable on the left.\n",
    "            Example:  a=10\n",
    "                      b=\"ineuron\"\n",
    "        \n",
    "== operator: The ‘==’ operator checks whether the two given operands are equal or not. \n",
    "             If so, it returns true. Otherwise it returns false.\n",
    "             Example: 24==24  #This will return true"
   ]
  },
  {
   "cell_type": "code",
   "execution_count": null,
   "id": "f5685714",
   "metadata": {},
   "outputs": [],
   "source": [
    "7. Identify the three blocks in this code:\n",
    "spam = 0\n",
    "{\n",
    "  if spam == 10:\n",
    "    print('eggs')\n",
    "}\n",
    "{\n",
    "    if spam &gt; 5:\n",
    "       print('bacon')\n",
    "}\n",
    "{\n",
    "   else:\n",
    "     print('ham')\n",
    "     print('spam')\n",
    "     print('spam') \n",
    "}\n"
   ]
  },
  {
   "cell_type": "code",
   "execution_count": null,
   "id": "fc59dfcb",
   "metadata": {},
   "outputs": [],
   "source": [
    "8. Write code that prints Hello if 1 is stored in spam, prints Howdy if 2 is stored in spam, and prints\n",
    "Greetings! if anything else is stored in spam."
   ]
  },
  {
   "cell_type": "code",
   "execution_count": 8,
   "id": "ec3b67c0",
   "metadata": {},
   "outputs": [
    {
     "name": "stdout",
     "output_type": "stream",
     "text": [
      "enter number: 8\n",
      "Greetings!\n"
     ]
    }
   ],
   "source": [
    "spam = int(input(\"enter number: \"))\n",
    "if spam==1:\n",
    "    print(\"Hello\")\n",
    "elif spam==2:\n",
    "    print(\"Howdy\")\n",
    "else:\n",
    "    print(\"Greetings!\")"
   ]
  },
  {
   "cell_type": "code",
   "execution_count": null,
   "id": "191c4b4c",
   "metadata": {},
   "outputs": [],
   "source": [
    "9.If your programme is stuck in an endless loop, what keys you’ll press?\n",
    "\n",
    "ctrl+C"
   ]
  },
  {
   "cell_type": "code",
   "execution_count": null,
   "id": "a8a72aa6",
   "metadata": {},
   "outputs": [],
   "source": [
    "10. How can you tell the difference between break and continue?\n",
    "\n",
    "When a break statement is executed, the statements after the contents of the loop are executed.\n",
    "Any code that follows the continue statement is not executed.You can use a continue statement \n",
    "in Python to skip over the part of a loop when a condition is met. Then, the rest of a loop will continue(keep) running. "
   ]
  },
  {
   "cell_type": "code",
   "execution_count": null,
   "id": "4e18d940",
   "metadata": {},
   "outputs": [],
   "source": [
    "11. In a for loop, what is the difference between range(10), range(0, 10), and range(0, 10, 1)?\n",
    "\n",
    "range(10): upper limit is 10 and the loop starts by default from 0 and ends at 9.\n",
    "\n",
    "range(0, 10): lower limit(start) is 0 and upper limit(stop) is 10.\n",
    "    \n",
    "range(0,10,1): lopp starts from 0 and stops at 10 with a jump size of 1."
   ]
  },
  {
   "cell_type": "code",
   "execution_count": null,
   "id": "ba58bd45",
   "metadata": {},
   "outputs": [],
   "source": [
    "12. Write a short program that prints the numbers 1 to 10 using a for loop. Then write an equivalent\n",
    "program that prints the numbers 1 to 10 using a while loop.\n",
    "\n",
    "for loop:\n",
    "for i in range(1,11):\n",
    "    print(i)\n",
    "\n",
    "while loop:   \n",
    "n=1\n",
    "while n<=10:\n",
    "    print(n)\n",
    "    n+=1 "
   ]
  },
  {
   "cell_type": "code",
   "execution_count": null,
   "id": "173ae1a6",
   "metadata": {},
   "outputs": [],
   "source": [
    "13. If you had a function named bacon() inside a module named spam, how would you call it after\n",
    "importing spam?\n",
    "\n",
    "This function can be called with spam.bacon()."
   ]
  }
 ],
 "metadata": {
  "kernelspec": {
   "display_name": "Python 3 (ipykernel)",
   "language": "python",
   "name": "python3"
  },
  "language_info": {
   "codemirror_mode": {
    "name": "ipython",
    "version": 3
   },
   "file_extension": ".py",
   "mimetype": "text/x-python",
   "name": "python",
   "nbconvert_exporter": "python",
   "pygments_lexer": "ipython3",
   "version": "3.9.7"
  }
 },
 "nbformat": 4,
 "nbformat_minor": 5
}
