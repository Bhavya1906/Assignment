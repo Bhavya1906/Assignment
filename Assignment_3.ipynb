{
 "cells": [
  {
   "cell_type": "markdown",
   "id": "aa6e9e92",
   "metadata": {},
   "source": [
    "1. Why are functions advantageous to have in your programs?\n",
    "\n",
    "   They can be used to avoid repetition of commands within the program.\n",
    "   It can be used over and over and over again."
   ]
  },
  {
   "cell_type": "markdown",
   "id": "b620e2f7",
   "metadata": {},
   "source": [
    "2. When does the code in a function run: when it's specified or when it's      called?\n",
    "    \n",
    "    when it's called, then only function will run."
   ]
  },
  {
   "cell_type": "markdown",
   "id": "fd13d734",
   "metadata": {},
   "source": [
    "3. What statement creates a function?\n",
    "\n",
    "   the \"def\" keyword creates the function.\n",
    "   syntax: def <func_name><arguments>:\n",
    "                 statements\n",
    "                 return[expression]"
   ]
  },
  {
   "cell_type": "markdown",
   "id": "28413fe5",
   "metadata": {},
   "source": [
    "4. What is the difference between a function and a function call?\n",
    "\n",
    "   A function consists of the def statement and the code in its def clause.\n",
    "\n",
    "   A function call is what moves the program execution into the function, and      the function call evaluates to the function's return value."
   ]
  },
  {
   "cell_type": "markdown",
   "id": "e8e39582",
   "metadata": {},
   "source": [
    "5. How many global scopes are there in a Python program? How many local scopes?\n",
    "   \n",
    "   There is one global scope and a local scope is created whenever a    function is called."
   ]
  },
  {
   "cell_type": "markdown",
   "id": "6e2d696a",
   "metadata": {},
   "source": [
    "6. What happens to variables in a local scope when the function call returns?\n",
    "\n",
    "   Since local variables are only recognized inside their functions, variables    with the same name can be used in different functions. Local variables are      created when a function starts, and deleted when the function is completed."
   ]
  },
  {
   "cell_type": "markdown",
   "id": "bc9d4257",
   "metadata": {},
   "source": [
    "7. What is the concept of a return value? Is it possible to have a return value    in an expression?\n",
    "\n",
    "   A return statement is used to end the execution of the function call and        “returns” the result to the caller. The statements after the return            statements are not executed.Yes, it is possible to have a return value in an    expression."
   ]
  },
  {
   "cell_type": "markdown",
   "id": "f0cf9ccf",
   "metadata": {},
   "source": [
    "8. If a function does not have a return statement, what is the return value of    a call to that function?\n",
    " \n",
    "   If the return statement is without any expression, then the special value      'None' is returned. A return statement is overall used to invoke a function    so that the passed statements can be executed."
   ]
  },
  {
   "cell_type": "markdown",
   "id": "bbee2f88",
   "metadata": {},
   "source": [
    "9. How do you make a function variable refer to the global variable?\n",
    "   \n",
    "   To create a global variable inside a function, you can use the 'global'          keyword."
   ]
  },
  {
   "cell_type": "markdown",
   "id": "b1092eee",
   "metadata": {},
   "source": [
    "10. What is the data type of None?\n",
    "\n",
    "    The data type of None is NoneType."
   ]
  },
  {
   "cell_type": "markdown",
   "id": "b6367c09",
   "metadata": {},
   "source": [
    "11. What does the sentence import areallyourpetsnamederic do?\n",
    "\n",
    "    That import statement imports a module named areallyourpetsnamederic."
   ]
  },
  {
   "cell_type": "markdown",
   "id": "0eadd3a3",
   "metadata": {},
   "source": [
    "12. If you had a bacon() feature in a spam module, what would you call it after     importing spam?\n",
    "\n",
    "    This function can be called with spam.bacon()."
   ]
  },
  {
   "cell_type": "markdown",
   "id": "cf83fbb5",
   "metadata": {},
   "source": [
    "13. What can you do to save a programme from crashing if it encounters an           error?\n",
    "\n",
    "    Place the line of code that might cause an error in a try clause. "
   ]
  },
  {
   "cell_type": "markdown",
   "id": "a2bbee57",
   "metadata": {},
   "source": [
    "14. What is the purpose of the try clause? What is the purpose of the except       clause?\n",
    "    \n",
    "    When it encounters an error, the control is passed to the except               block, skipping the code in between.\n"
   ]
  }
 ],
 "metadata": {
  "kernelspec": {
   "display_name": "Python 3 (ipykernel)",
   "language": "python",
   "name": "python3"
  },
  "language_info": {
   "codemirror_mode": {
    "name": "ipython",
    "version": 3
   },
   "file_extension": ".py",
   "mimetype": "text/x-python",
   "name": "python",
   "nbconvert_exporter": "python",
   "pygments_lexer": "ipython3",
   "version": "3.9.7"
  }
 },
 "nbformat": 4,
 "nbformat_minor": 5
}
