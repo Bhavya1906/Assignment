{
 "cells": [
  {
   "cell_type": "markdown",
   "id": "26141607",
   "metadata": {},
   "source": [
    "### 1. In what modes should the PdfFileReader() and PdfFileWriter() File objects will be opened?"
   ]
  },
  {
   "cell_type": "code",
   "execution_count": null,
   "id": "dbf137aa",
   "metadata": {},
   "outputs": [],
   "source": [
    "These files are opened in a binary mode.\n",
    "read-binary(rb) for PdfFileReader()\n",
    "write-binary(wb) for PdfFileWriter()"
   ]
  },
  {
   "cell_type": "markdown",
   "id": "23badf50",
   "metadata": {},
   "source": [
    "### 2. From a PdfFileReader object, how do you get a Page object for page 5?"
   ]
  },
  {
   "cell_type": "code",
   "execution_count": null,
   "id": "e4bf2d31",
   "metadata": {},
   "outputs": [],
   "source": [
    "Calling getpage(4) will get a Page object for page 5 since page 0 is the first page."
   ]
  },
  {
   "cell_type": "markdown",
   "id": "12bd6782",
   "metadata": {},
   "source": [
    "### 3. What PdfFileReader variable stores the number of pages in the PDF document?"
   ]
  },
  {
   "cell_type": "code",
   "execution_count": null,
   "id": "4913a46b",
   "metadata": {},
   "outputs": [],
   "source": [
    "getNumPages() method of PdfFileReader class stores the number of pages in a PDF document."
   ]
  },
  {
   "cell_type": "markdown",
   "id": "a11ab3e2",
   "metadata": {},
   "source": [
    "### 4. If a PdfFileReader object’s PDF is encrypted with the password swordfish, what must you do before you can obtain Page objects from it?"
   ]
  },
  {
   "cell_type": "code",
   "execution_count": null,
   "id": "fd91ffb6",
   "metadata": {},
   "outputs": [],
   "source": [
    "before obtaining the Page object, the pdf has to be decrypted by calling decrypt('swordfish')"
   ]
  },
  {
   "cell_type": "markdown",
   "id": "792e1476",
   "metadata": {},
   "source": [
    "### 5. What methods do you use to rotate a page?"
   ]
  },
  {
   "cell_type": "code",
   "execution_count": null,
   "id": "9f4c7f48",
   "metadata": {},
   "outputs": [],
   "source": [
    "rotateClockwise() and rotateCounterClockwise() methods and the degree to rotate is passed as an integer argument."
   ]
  },
  {
   "cell_type": "markdown",
   "id": "3b429fa6",
   "metadata": {},
   "source": [
    "### 6. What is the difference between a Run object and a Paragraph object?"
   ]
  },
  {
   "cell_type": "code",
   "execution_count": null,
   "id": "63d368b9",
   "metadata": {},
   "outputs": [],
   "source": [
    "A document contains multiple paragraphs. A paragraph begins on a new line and contains multiple runs.\n",
    "Run objects are contiguous group of characters in a paragraph with the same style."
   ]
  },
  {
   "cell_type": "markdown",
   "id": "7d24b94e",
   "metadata": {},
   "source": [
    "### 7. How do you obtain a list of Paragraph objects for a Document object that’s stored in a variable named doc?"
   ]
  },
  {
   "cell_type": "code",
   "execution_count": null,
   "id": "a305d34a",
   "metadata": {},
   "outputs": [],
   "source": [
    "By using doc.paragraphs"
   ]
  },
  {
   "cell_type": "markdown",
   "id": "20123a1c",
   "metadata": {},
   "source": [
    "### 8. What type of object has bold, underline, italic, strike, and outline variables?"
   ]
  },
  {
   "cell_type": "code",
   "execution_count": null,
   "id": "f116d0f0",
   "metadata": {},
   "outputs": [],
   "source": [
    "Run object has bold, underline, italic, strike and outline variables."
   ]
  },
  {
   "cell_type": "markdown",
   "id": "c9d6ead3",
   "metadata": {},
   "source": [
    "### 9. What is the difference between False, True, and None for the bold variable?"
   ]
  },
  {
   "cell_type": "code",
   "execution_count": null,
   "id": "c942d650",
   "metadata": {},
   "outputs": [],
   "source": [
    "True always makes the Run object bolded and False makes it always not bolded, no matter what the style’s bold setting is. \n",
    "None will make the Run object just use the style’s bold setting.\n",
    "\n",
    "bold = True # style set to bold\n",
    "bold = False # style not set to bold\n",
    "bole = None # style is not applicable"
   ]
  },
  {
   "cell_type": "markdown",
   "id": "597f09f4",
   "metadata": {},
   "source": [
    "### 10. How do you create a Document object for a new Word document?"
   ]
  },
  {
   "cell_type": "code",
   "execution_count": null,
   "id": "00910c8f",
   "metadata": {},
   "outputs": [],
   "source": [
    "by calling docx.Document() function"
   ]
  },
  {
   "cell_type": "markdown",
   "id": "c681d23b",
   "metadata": {},
   "source": [
    "### 11. How do you add a paragraph with the text &#39;Hello, there!&#39; to a Document object stored in a variable named doc?"
   ]
  },
  {
   "cell_type": "code",
   "execution_count": 2,
   "id": "53b8aaf4",
   "metadata": {},
   "outputs": [],
   "source": [
    "import docx\n",
    "doc = docx.Document()\n",
    "\n",
    "doc.add_paragraph('Hello there!')\n",
    "doc.save('hellothere.docx')"
   ]
  },
  {
   "cell_type": "markdown",
   "id": "867bc52b",
   "metadata": {},
   "source": [
    "### 12. What integers represent the levels of headings available in Word documents?"
   ]
  },
  {
   "cell_type": "code",
   "execution_count": null,
   "id": "5a02300e",
   "metadata": {},
   "outputs": [],
   "source": [
    "integers 0 to 4 \n",
    "0 - being the Title\n",
    "1 to 4 are various levels of heading\n",
    "1 - being the main head and \n",
    "4 - the lowest subheading"
   ]
  }
 ],
 "metadata": {
  "kernelspec": {
   "display_name": "Python 3 (ipykernel)",
   "language": "python",
   "name": "python3"
  },
  "language_info": {
   "codemirror_mode": {
    "name": "ipython",
    "version": 3
   },
   "file_extension": ".py",
   "mimetype": "text/x-python",
   "name": "python",
   "nbconvert_exporter": "python",
   "pygments_lexer": "ipython3",
   "version": "3.9.12"
  }
 },
 "nbformat": 4,
 "nbformat_minor": 5
}
