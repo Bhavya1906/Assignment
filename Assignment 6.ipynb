{
 "cells": [
  {
   "cell_type": "markdown",
   "id": "4e4d4977",
   "metadata": {},
   "source": [
    "## 1. What are escape characters, and how do you use them?"
   ]
  },
  {
   "cell_type": "raw",
   "id": "27a6b2fc",
   "metadata": {},
   "source": [
    " In Python strings, the backslash \"\\\" is a special character, also called the \"escape\" character. It is used in representing certain whitespace characters: \"\\t\" is a tab, \"\\n\" is a newline, and \"\\r\" is a carriage return"
   ]
  },
  {
   "cell_type": "markdown",
   "id": "5c545a84",
   "metadata": {},
   "source": [
    "## 2. What do the escape characters n and t stand for?"
   ]
  },
  {
   "cell_type": "raw",
   "id": "03e103e1",
   "metadata": {},
   "source": [
    "'\\n' - newline\n",
    "'\\t' - tab"
   ]
  },
  {
   "cell_type": "markdown",
   "id": "c1994ebb",
   "metadata": {},
   "source": [
    "## 3. What is the way to include backslash characters in a string?"
   ]
  },
  {
   "cell_type": "raw",
   "id": "0aed357a",
   "metadata": {},
   "source": [
    "\\ escape character will represent a backslash character"
   ]
  },
  {
   "cell_type": "markdown",
   "id": "9d55fe95",
   "metadata": {},
   "source": [
    "## 4. The string \"Howl's Moving Castle\" is a correct value. Why isn't the single quote character in the word Howl's not escaped a problem?"
   ]
  },
  {
   "cell_type": "raw",
   "id": "2bfddd3d",
   "metadata": {},
   "source": [
    "The single quote in Howl's is fine because you've used double quotes to mark the beginning and end of the string. \n",
    "like wise we can use double quotes in with single quotes."
   ]
  },
  {
   "cell_type": "markdown",
   "id": "ad0ad57b",
   "metadata": {},
   "source": [
    "## 5. How do you write a string of newlines if you don't want to use the n character?"
   ]
  },
  {
   "cell_type": "raw",
   "id": "1e302592",
   "metadata": {},
   "source": [
    "we can use the parameter end ='\\n' in print function"
   ]
  },
  {
   "cell_type": "markdown",
   "id": "8e3a7d4a",
   "metadata": {},
   "source": [
    "## 6. What are the values of the given expressions?"
   ]
  },
  {
   "cell_type": "raw",
   "id": "29a06288",
   "metadata": {},
   "source": [
    "'Hello, world!'[1]   ->  'e'\n",
    "'Hello, world!'[0:5] ->  'Hello'\n",
    "'Hello, world!'[:5]  ->  'Hello'\n",
    "'Hello, world!'[3:]  ->  'lo, world!'"
   ]
  },
  {
   "cell_type": "code",
   "execution_count": 1,
   "id": "b9e7ba7a",
   "metadata": {},
   "outputs": [
    {
     "data": {
      "text/plain": [
       "'e'"
      ]
     },
     "execution_count": 1,
     "metadata": {},
     "output_type": "execute_result"
    }
   ],
   "source": [
    "'Hello, world!'[1]"
   ]
  },
  {
   "cell_type": "code",
   "execution_count": 2,
   "id": "dc6c72a9",
   "metadata": {},
   "outputs": [
    {
     "data": {
      "text/plain": [
       "'Hello'"
      ]
     },
     "execution_count": 2,
     "metadata": {},
     "output_type": "execute_result"
    }
   ],
   "source": [
    "'Hello, world!'[0:5]"
   ]
  },
  {
   "cell_type": "code",
   "execution_count": 3,
   "id": "364be749",
   "metadata": {},
   "outputs": [
    {
     "data": {
      "text/plain": [
       "'Hello'"
      ]
     },
     "execution_count": 3,
     "metadata": {},
     "output_type": "execute_result"
    }
   ],
   "source": [
    "'Hello, world!'[:5]"
   ]
  },
  {
   "cell_type": "code",
   "execution_count": 4,
   "id": "1f512a13",
   "metadata": {},
   "outputs": [
    {
     "data": {
      "text/plain": [
       "'lo, world!'"
      ]
     },
     "execution_count": 4,
     "metadata": {},
     "output_type": "execute_result"
    }
   ],
   "source": [
    "'Hello, world!'[3:]"
   ]
  },
  {
   "cell_type": "markdown",
   "id": "7d7cc503",
   "metadata": {},
   "source": [
    "## 7. What are the values of the following expressions?"
   ]
  },
  {
   "cell_type": "raw",
   "id": "eed8c62e",
   "metadata": {},
   "source": [
    "'Hello'.upper()           -> \"HELLO\" \n",
    "'Hello'.upper().isupper() -> True\n",
    "'Hello'.upper().lower()   -> \"hello\" "
   ]
  },
  {
   "cell_type": "code",
   "execution_count": 5,
   "id": "853fd8ea",
   "metadata": {},
   "outputs": [
    {
     "data": {
      "text/plain": [
       "'HELLO'"
      ]
     },
     "execution_count": 5,
     "metadata": {},
     "output_type": "execute_result"
    }
   ],
   "source": [
    "'Hello'.upper() "
   ]
  },
  {
   "cell_type": "code",
   "execution_count": 6,
   "id": "b80c7caa",
   "metadata": {},
   "outputs": [
    {
     "data": {
      "text/plain": [
       "True"
      ]
     },
     "execution_count": 6,
     "metadata": {},
     "output_type": "execute_result"
    }
   ],
   "source": [
    "'Hello'.upper().isupper()"
   ]
  },
  {
   "cell_type": "code",
   "execution_count": 7,
   "id": "9e0a75f6",
   "metadata": {},
   "outputs": [
    {
     "data": {
      "text/plain": [
       "'hello'"
      ]
     },
     "execution_count": 7,
     "metadata": {},
     "output_type": "execute_result"
    }
   ],
   "source": [
    "'Hello'.upper().lower()"
   ]
  },
  {
   "cell_type": "markdown",
   "id": "11123676",
   "metadata": {},
   "source": [
    "## 8. What are the values of the following expressions?"
   ]
  },
  {
   "cell_type": "raw",
   "id": "f85cbff9",
   "metadata": {},
   "source": [
    "'Remember, remember, the fifth of July.'.split() - ['Remember,', 'remenber,', 'the', 'fifth', 'of', 'July.']\n",
    "\n",
    "'-'.join('There can only one.'.split())          - 'There-can-only-one.'"
   ]
  },
  {
   "cell_type": "code",
   "execution_count": 8,
   "id": "1f6485a7",
   "metadata": {},
   "outputs": [
    {
     "data": {
      "text/plain": [
       "['Remember,', 'remember,', 'the', 'fifth', 'of', 'July.']"
      ]
     },
     "execution_count": 8,
     "metadata": {},
     "output_type": "execute_result"
    }
   ],
   "source": [
    "'Remember, remember, the fifth of July.'.split()"
   ]
  },
  {
   "cell_type": "code",
   "execution_count": 9,
   "id": "be36a71c",
   "metadata": {},
   "outputs": [
    {
     "data": {
      "text/plain": [
       "'There-can-only-one.'"
      ]
     },
     "execution_count": 9,
     "metadata": {},
     "output_type": "execute_result"
    }
   ],
   "source": [
    "'-'.join('There can only one.'.split()) "
   ]
  },
  {
   "cell_type": "markdown",
   "id": "bcf3bb7f",
   "metadata": {},
   "source": [
    "## 9. What are the methods for right-justifying, left-justifying, and centering a string?"
   ]
  },
  {
   "cell_type": "raw",
   "id": "0c5191be",
   "metadata": {},
   "source": [
    "rjust()\n",
    "ljust()\n",
    "center()"
   ]
  },
  {
   "cell_type": "markdown",
   "id": "5434b3fb",
   "metadata": {},
   "source": [
    "## 10. What is the best way to remove whitespace characters from the start or end?"
   ]
  },
  {
   "cell_type": "raw",
   "id": "d24d8215",
   "metadata": {},
   "source": [
    "lstrip() -> removes white spaces from left of the string\n",
    "rstrip() -> removes whitespaces from right of the string"
   ]
  },
  {
   "cell_type": "code",
   "execution_count": null,
   "id": "e3f3ea1b",
   "metadata": {},
   "outputs": [],
   "source": []
  }
 ],
 "metadata": {
  "kernelspec": {
   "display_name": "Python 3 (ipykernel)",
   "language": "python",
   "name": "python3"
  },
  "language_info": {
   "codemirror_mode": {
    "name": "ipython",
    "version": 3
   },
   "file_extension": ".py",
   "mimetype": "text/x-python",
   "name": "python",
   "nbconvert_exporter": "python",
   "pygments_lexer": "ipython3",
   "version": "3.9.12"
  }
 },
 "nbformat": 4,
 "nbformat_minor": 5
}
