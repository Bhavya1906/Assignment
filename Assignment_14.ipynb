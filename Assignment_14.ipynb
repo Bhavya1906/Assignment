{
 "cells": [
  {
   "cell_type": "markdown",
   "id": "eb37fee9",
   "metadata": {},
   "source": [
    "### 1. What does RGBA stand for?"
   ]
  },
  {
   "cell_type": "code",
   "execution_count": null,
   "id": "45385393",
   "metadata": {},
   "outputs": [],
   "source": [
    "RGBA value is a tuple of 4 integers, each ranging from 0 to 255.\n",
    "The 4 integers correspond to the amount of red, green, blue and alpha(transperancy) in the color."
   ]
  },
  {
   "cell_type": "markdown",
   "id": "ba9e8780",
   "metadata": {},
   "source": [
    "### 2. From the Pillow module, how do you get the RGBA value of any images?"
   ]
  },
  {
   "cell_type": "code",
   "execution_count": 6,
   "id": "f41eb60c",
   "metadata": {},
   "outputs": [
    {
     "name": "stdout",
     "output_type": "stream",
     "text": [
      "(0, 0, 255, 255)\n",
      "(255, 0, 0, 255)\n"
     ]
    }
   ],
   "source": [
    "from PIL import ImageColor\n",
    "a = ImageColor.getcolor('blue', 'RGBA')\n",
    "b = ImageColor.getcolor('red', 'RGBA')\n",
    "print(a)\n",
    "print(b)"
   ]
  },
  {
   "cell_type": "markdown",
   "id": "91f1a1d5",
   "metadata": {},
   "source": [
    "### 3. What is a box tuple, and how does it work?"
   ]
  },
  {
   "cell_type": "code",
   "execution_count": null,
   "id": "c75e1f10",
   "metadata": {},
   "outputs": [],
   "source": [
    "A box tuple is a tuple value of four integers: the left-edge x-coordinate, the top-edge y-coordinate, the width, and the \n",
    "height, respectively."
   ]
  },
  {
   "cell_type": "markdown",
   "id": "1b74ef27",
   "metadata": {},
   "source": [
    "### 4. Use your image and load in notebook then, How can you find out the width and height of an Image object?"
   ]
  },
  {
   "cell_type": "code",
   "execution_count": 5,
   "id": "6389f254",
   "metadata": {},
   "outputs": [
    {
     "name": "stdout",
     "output_type": "stream",
     "text": [
      "The height of the image is:  419\n",
      "The width of the image is:  629\n"
     ]
    }
   ],
   "source": [
    "from PIL import Image\n",
    "  \n",
    "filepath = \"geeksforgeeks.png\"\n",
    "img = Image.open(r\"C:\\Users\\bhavy\\Downloads\\Uncharted _ k_th_.jfif\")\n",
    "  \n",
    "width = img.width\n",
    "height = img.height\n",
    "  \n",
    "print(\"The height of the image is: \", height)\n",
    "print(\"The width of the image is: \", width)"
   ]
  },
  {
   "cell_type": "markdown",
   "id": "63681d11",
   "metadata": {},
   "source": [
    "### 5. What method would you call to get Image object for a 100×100 image, excluding the lower-left quarter of it?"
   ]
  },
  {
   "cell_type": "code",
   "execution_count": null,
   "id": "3cda0281",
   "metadata": {},
   "outputs": [],
   "source": [
    "ImageObject.crop((0, 50, 50, 50))"
   ]
  },
  {
   "cell_type": "markdown",
   "id": "30446b4c",
   "metadata": {},
   "source": [
    "### 6. After making changes to an Image object, how could you save it as an image file?"
   ]
  },
  {
   "cell_type": "code",
   "execution_count": null,
   "id": "285d5198",
   "metadata": {},
   "outputs": [],
   "source": [
    "By Calling the imageObj.save('new_filename.png') method of the Image object"
   ]
  },
  {
   "cell_type": "markdown",
   "id": "afdd8158",
   "metadata": {},
   "source": [
    "### 7. What module contains Pillow’s shape-drawing code?"
   ]
  },
  {
   "cell_type": "code",
   "execution_count": null,
   "id": "2cac96e5",
   "metadata": {},
   "outputs": [],
   "source": [
    "The ImageDraw module contains code to draw on images."
   ]
  },
  {
   "cell_type": "markdown",
   "id": "7d8861b4",
   "metadata": {},
   "source": [
    "### 8. Image objects do not have drawing methods. What kind of object does? How do you get this kind of object?"
   ]
  },
  {
   "cell_type": "code",
   "execution_count": null,
   "id": "6e278844",
   "metadata": {},
   "outputs": [],
   "source": [
    "ImageDraw objects have shape-drawing methods such as point(), line(), or rectangle(). They are returned by passing the Image \n",
    "object to the ImageDraw.Draw() function."
   ]
  }
 ],
 "metadata": {
  "kernelspec": {
   "display_name": "Python 3 (ipykernel)",
   "language": "python",
   "name": "python3"
  },
  "language_info": {
   "codemirror_mode": {
    "name": "ipython",
    "version": 3
   },
   "file_extension": ".py",
   "mimetype": "text/x-python",
   "name": "python",
   "nbconvert_exporter": "python",
   "pygments_lexer": "ipython3",
   "version": "3.9.12"
  }
 },
 "nbformat": 4,
 "nbformat_minor": 5
}
