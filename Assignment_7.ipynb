{
 "cells": [
  {
   "cell_type": "markdown",
   "id": "80a13777",
   "metadata": {},
   "source": [
    "### 1. What is the name of the feature responsible for generating Regex objects?"
   ]
  },
  {
   "cell_type": "code",
   "execution_count": null,
   "id": "5360103f",
   "metadata": {},
   "outputs": [],
   "source": [
    "re.complie() function returns Regex objects."
   ]
  },
  {
   "cell_type": "markdown",
   "id": "3e4d0b12",
   "metadata": {},
   "source": [
    "### 2. Why do raw strings often appear in Regex objects?"
   ]
  },
  {
   "cell_type": "code",
   "execution_count": null,
   "id": "8b064670",
   "metadata": {},
   "outputs": [],
   "source": [
    "Raw strings are used so that backslashes do not have to be escaped."
   ]
  },
  {
   "cell_type": "markdown",
   "id": "e144a854",
   "metadata": {},
   "source": [
    "### 3. What is the return value of the search() method?"
   ]
  },
  {
   "cell_type": "code",
   "execution_count": null,
   "id": "80b802d5",
   "metadata": {},
   "outputs": [],
   "source": [
    "The search() method returns the position of the first match. It returns -1 if no match is found."
   ]
  },
  {
   "cell_type": "markdown",
   "id": "56512059",
   "metadata": {},
   "source": [
    "### 4. From a Match item, how do you get the actual strings that match the pattern?"
   ]
  },
  {
   "cell_type": "code",
   "execution_count": null,
   "id": "2f746758",
   "metadata": {},
   "outputs": [],
   "source": [
    "The group() method reterns the string of the matched text"
   ]
  },
  {
   "cell_type": "markdown",
   "id": "df76ba4c",
   "metadata": {},
   "source": [
    "### 5. In the regex which created from the r(\\d\\d\\d)-(\\d\\d\\d-\\d\\d\\d\\d), what does group zero cover? Group 2? Group 1?"
   ]
  },
  {
   "cell_type": "code",
   "execution_count": null,
   "id": "4f5e2c97",
   "metadata": {},
   "outputs": [],
   "source": [
    "Group zero covers the entire match\n",
    "Group 2 covers second set of perentheses and \n",
    "Group 1 covers the first set of perentheses."
   ]
  },
  {
   "cell_type": "markdown",
   "id": "4b93a53a",
   "metadata": {},
   "source": [
    "### 6. In standard expression syntax, parentheses and intervals have distinct meanings. How can you tell a regex that you want it to fit real parentheses and periods?"
   ]
  },
  {
   "cell_type": "code",
   "execution_count": null,
   "id": "9ac2f38c",
   "metadata": {},
   "outputs": [],
   "source": [
    "Periods and parentheses can be escaped with a backslash: \\., \\(, and \\)."
   ]
  },
  {
   "cell_type": "markdown",
   "id": "10302c23",
   "metadata": {},
   "source": [
    "### 7. The findall() method returns a string list or a list of string tuples. What causes it to return one of the two options?"
   ]
  },
  {
   "cell_type": "code",
   "execution_count": null,
   "id": "e9181bc6",
   "metadata": {},
   "outputs": [],
   "source": [
    "If the regerx has no groups, a list of strings is returned. \n",
    "if the regex has groups, a list of tuples of strings is returned."
   ]
  },
  {
   "cell_type": "markdown",
   "id": "80f8b3f5",
   "metadata": {},
   "source": [
    "### 8. In standard expressions, what does the | character mean?"
   ]
  },
  {
   "cell_type": "code",
   "execution_count": null,
   "id": "9768ae41",
   "metadata": {},
   "outputs": [],
   "source": [
    "The | character basically called as pipe.\n",
    "It signifies matching 'either, or' between two groups."
   ]
  },
  {
   "cell_type": "markdown",
   "id": "2095773a",
   "metadata": {},
   "source": [
    "### 9. In regular expressions, what does the character stand for?"
   ]
  },
  {
   "cell_type": "code",
   "execution_count": null,
   "id": "6f83e216",
   "metadata": {},
   "outputs": [],
   "source": [
    "All characters, except those having special meaning in regex, matches themselves.\n",
    "E.g., the regex x matches substring \"x\" ; regex 9 matches \"9\" ; regex = matches \"=\" ; and regex @ matches \"@\" ."
   ]
  },
  {
   "cell_type": "markdown",
   "id": "a645a0f3",
   "metadata": {},
   "source": [
    "### 10.In regular expressions, what is the difference between the + and * characters?"
   ]
  },
  {
   "cell_type": "code",
   "execution_count": null,
   "id": "a5d8c58b",
   "metadata": {},
   "outputs": [],
   "source": [
    "+ matches one or more, * matches zero or more."
   ]
  },
  {
   "cell_type": "markdown",
   "id": "2e37bd4a",
   "metadata": {},
   "source": [
    "### 11. What is the difference between {4} and {4,5} in regular expression?"
   ]
  },
  {
   "cell_type": "code",
   "execution_count": null,
   "id": "b3d819de",
   "metadata": {},
   "outputs": [],
   "source": [
    "{4} matches exactly four instances of preceeding group whereas {4,5} matches between 4 and 5 instances."
   ]
  },
  {
   "cell_type": "markdown",
   "id": "29d3909d",
   "metadata": {},
   "source": [
    "### 12. What do you mean by the \\d, \\w, and \\s shorthand character classes signify in regular expressions?"
   ]
  },
  {
   "cell_type": "code",
   "execution_count": null,
   "id": "e07848b7",
   "metadata": {},
   "outputs": [],
   "source": [
    "The \\d, \\w, \\s shorthand character classes matches a single digit, word or space respectively."
   ]
  },
  {
   "cell_type": "markdown",
   "id": "4b99ee72",
   "metadata": {},
   "source": [
    "### 13. What do means by \\D, \\W, and \\S shorthand character classes signify in regular expressions?"
   ]
  },
  {
   "cell_type": "code",
   "execution_count": null,
   "id": "84367165",
   "metadata": {},
   "outputs": [],
   "source": [
    "\\D, \\W, and \\S shorthand character classes matches a single character that is not a digit, word or space character respectively."
   ]
  },
  {
   "cell_type": "markdown",
   "id": "a6276472",
   "metadata": {},
   "source": [
    "### 14. What is the difference between .*? and .*?"
   ]
  },
  {
   "cell_type": "code",
   "execution_count": null,
   "id": "ef8c5d78",
   "metadata": {},
   "outputs": [],
   "source": [
    ".*? performs a nongreedy match; .* performs a greedy match."
   ]
  },
  {
   "cell_type": "markdown",
   "id": "37feff7e",
   "metadata": {},
   "source": [
    "### 15. What is the syntax for matching both numbers and lowercase letters with a character class?"
   ]
  },
  {
   "cell_type": "code",
   "execution_count": null,
   "id": "297d87fc",
   "metadata": {},
   "outputs": [],
   "source": [
    "It is either [a-z0-9] or [0-9a-z]"
   ]
  },
  {
   "cell_type": "markdown",
   "id": "9d49217a",
   "metadata": {},
   "source": [
    "### 16. What is the procedure for making a normal expression in regax case insensitive?"
   ]
  },
  {
   "cell_type": "code",
   "execution_count": null,
   "id": "a655677a",
   "metadata": {},
   "outputs": [],
   "source": [
    "The re.I or re.IGNORECASE as the second argument to re.compile will make the matching case sensitive."
   ]
  },
  {
   "cell_type": "markdown",
   "id": "7269a291",
   "metadata": {},
   "source": [
    "### 17. What does the . character normally match? What does it match if re.DOTALL is passed as 2nd argument in re.compile()?"
   ]
  },
  {
   "cell_type": "code",
   "execution_count": null,
   "id": "3af4337c",
   "metadata": {},
   "outputs": [],
   "source": [
    "The . character normally matches any character except the newline character.\n",
    "The re.DOTALL character is passed as the second argument to re.compile(), then the dot will also match new line characters."
   ]
  },
  {
   "cell_type": "markdown",
   "id": "b5bfca83",
   "metadata": {},
   "source": [
    "### 18. If numReg = re.compile(r&#39;\\d+&#39;), what will numRegex.sub(&#39;X&#39;, &#39;11 drummers, 10 pipers, five rings, 4 hen&#39;) return?"
   ]
  },
  {
   "cell_type": "code",
   "execution_count": 8,
   "id": "0b099bb7",
   "metadata": {},
   "outputs": [
    {
     "data": {
      "text/plain": [
       "'x drummers, x pipers, five rings, x hen'"
      ]
     },
     "execution_count": 8,
     "metadata": {},
     "output_type": "execute_result"
    }
   ],
   "source": [
    "import re\n",
    "numRegex = re.compile(r'\\d+')\n",
    "b = numRegex.sub('x','11 drummers, 10 pipers, five rings, 4 hen')\n",
    "b"
   ]
  },
  {
   "cell_type": "markdown",
   "id": "05af5cf9",
   "metadata": {},
   "source": [
    "### 19. What does passing re.VERBOSE as the 2nd argument to re.compile() allow to do?"
   ]
  },
  {
   "cell_type": "code",
   "execution_count": null,
   "id": "46494a8b",
   "metadata": {},
   "outputs": [],
   "source": [
    "The re.VERBOSE argument allows you to add whitespace and comments to the string passed to re.compile()"
   ]
  },
  {
   "cell_type": "markdown",
   "id": "032813e2",
   "metadata": {},
   "source": [
    "### 20. How would you write a regex that match a number with comma for every three digits? It must match the given following:\n",
    "\n",
    "&#39;42&#39;\n",
    "\n",
    "&#39;1,234&#39;\n",
    "\n",
    "&#39;6,368,745&#39;\n",
    "\n",
    "but not the following:\n",
    "\n",
    "&#39;12,34,567&#39; (which has only two digits between the commas)\n",
    "\n",
    "&#39;1234&#39; (which lacks commas)"
   ]
  },
  {
   "cell_type": "code",
   "execution_count": 9,
   "id": "4fc0dd87",
   "metadata": {},
   "outputs": [
    {
     "data": {
      "text/plain": [
       "'42'"
      ]
     },
     "execution_count": 9,
     "metadata": {},
     "output_type": "execute_result"
    }
   ],
   "source": [
    "jin = re.compile(r'^\\d{1,3}(,\\d{3})*$')\n",
    "jk = jin.search('42')\n",
    "jk.group()"
   ]
  },
  {
   "cell_type": "code",
   "execution_count": 10,
   "id": "7453050b",
   "metadata": {},
   "outputs": [
    {
     "data": {
      "text/plain": [
       "'1,234'"
      ]
     },
     "execution_count": 10,
     "metadata": {},
     "output_type": "execute_result"
    }
   ],
   "source": [
    "jin = re.compile(r'^\\d{1,3}(,\\d{3})*$')\n",
    "v = jin.search('1,234')\n",
    "v.group()"
   ]
  },
  {
   "cell_type": "code",
   "execution_count": 11,
   "id": "dd2a9179",
   "metadata": {},
   "outputs": [
    {
     "data": {
      "text/plain": [
       "'6,368,745'"
      ]
     },
     "execution_count": 11,
     "metadata": {},
     "output_type": "execute_result"
    }
   ],
   "source": [
    "jin = re.compile(r'^\\d{1,3}(,\\d{3})*$')\n",
    "v = jin.search('6,368,745')\n",
    "v.group()"
   ]
  },
  {
   "cell_type": "markdown",
   "id": "f3f1749a",
   "metadata": {},
   "source": [
    "### 21. How would you write a regex that matches the full name of someone whose last name is Watanabe? You can assume that the first name that comes before it will always be one word that begins with a capital letter. The regex must match the following:\n",
    "\n",
    "&#39;Haruto Watanabe&#39;\n",
    "\n",
    "&#39;Alice Watanabe&#39;\n",
    "\n",
    "&#39;RoboCop Watanabe&#39;\n",
    "\n",
    "but not the following:\n",
    "\n",
    "&#39;haruto Watanabe&#39; (where the first name is not capitalized)\n",
    "\n",
    "&#39;Mr. Watanabe&#39; (where the preceding word has a nonletter character)\n",
    "\n",
    "&#39;Watanabe&#39; (which has no first name)\n",
    "\n",
    "&#39;Haruto watanabe&#39; (where Watanabe is not capitalized)"
   ]
  },
  {
   "cell_type": "code",
   "execution_count": 12,
   "id": "ac056d54",
   "metadata": {},
   "outputs": [
    {
     "data": {
      "text/plain": [
       "'Haruto Watanabe'"
      ]
     },
     "execution_count": 12,
     "metadata": {},
     "output_type": "execute_result"
    }
   ],
   "source": [
    "name = re.compile(r'[A-Z][a-z]*\\sWatanabe')\n",
    "reg = re.compile(r'^\\d{1,3}(,\\d{haruto Watanabe3})*$')\n",
    "rm = name.search('Haruto Watanabe')\n",
    "rm.group()"
   ]
  },
  {
   "cell_type": "code",
   "execution_count": 13,
   "id": "4820e097",
   "metadata": {},
   "outputs": [
    {
     "data": {
      "text/plain": [
       "'Alice Watanabe'"
      ]
     },
     "execution_count": 13,
     "metadata": {},
     "output_type": "execute_result"
    }
   ],
   "source": [
    "name = re.compile(r'[A-Z][a-z]*\\sWatanabe')\n",
    "reg = re.compile(r'^\\d{1,3}(,\\d{3})*$')\n",
    "jimin = name.search('Alice Watanabe')\n",
    "jimin.group()"
   ]
  },
  {
   "cell_type": "code",
   "execution_count": 14,
   "id": "a7eb6b0d",
   "metadata": {},
   "outputs": [
    {
     "data": {
      "text/plain": [
       "'Robocop Watanabe'"
      ]
     },
     "execution_count": 14,
     "metadata": {},
     "output_type": "execute_result"
    }
   ],
   "source": [
    "name = re.compile(r'[A-Z][a-z]*\\sWatanabe')\n",
    "suga = re.compile(r'^\\d{1,3}(,\\d{3})*$')\n",
    "jm = name.search('Robocop Watanabe')\n",
    "jm.group()"
   ]
  },
  {
   "cell_type": "markdown",
   "id": "242fb30a",
   "metadata": {},
   "source": [
    "### 22. How would you write a regex that matches a sentence where the first word is either Alice, Bob, or Carol; the second word is either eats, pets, or throws; the third word is apples, cats, or baseballs; and the sentence ends with a period? This regex should be case-insensitive. It must match the following:\n",
    "\n",
    "&#39;Alice eats apples.&#39;\n",
    "\n",
    "&#39;Bob pets cats.&#39;\n",
    "\n",
    "&#39;Carol throws baseballs.&#39;\n",
    "\n",
    "&#39;Alice throws Apples.&#39;\n",
    "\n",
    "&#39;BOB EATS CATS.&#39;\n",
    "but not the following:\n",
    "\n",
    "&#39;RoboCop eats apples.&#39;\n",
    "\n",
    "&#39;ALICE THROWS FOOTBALLS.&#39;\n",
    "\n",
    "&#39;Carol eats 7 cats.&#39;"
   ]
  },
  {
   "cell_type": "code",
   "execution_count": 15,
   "id": "87b93d14",
   "metadata": {},
   "outputs": [
    {
     "data": {
      "text/plain": [
       "'Alice eats apples.'"
      ]
     },
     "execution_count": 15,
     "metadata": {},
     "output_type": "execute_result"
    }
   ],
   "source": [
    "name = re.compile(r'(Alice|Bob|Carol)\\s(eats|pets|throws)\\s(apples|cats|baseballs)\\.', re.IGNORECASE)\n",
    "\n",
    "jm = name.search('Alice eats apples.')\n",
    "jm.group()"
   ]
  },
  {
   "cell_type": "code",
   "execution_count": 16,
   "id": "0ecc5420",
   "metadata": {},
   "outputs": [
    {
     "data": {
      "text/plain": [
       "'Carol throws baseballs.'"
      ]
     },
     "execution_count": 16,
     "metadata": {},
     "output_type": "execute_result"
    }
   ],
   "source": [
    "name = re.compile(r'(Alice|Bob|Carol)\\s(eats|pets|throws)\\s(apples|cats|baseballs)\\.', re.IGNORECASE)\n",
    "\n",
    "v = name.search('Carol throws baseballs.')\n",
    "v.group()"
   ]
  }
 ],
 "metadata": {
  "kernelspec": {
   "display_name": "Python 3 (ipykernel)",
   "language": "python",
   "name": "python3"
  },
  "language_info": {
   "codemirror_mode": {
    "name": "ipython",
    "version": 3
   },
   "file_extension": ".py",
   "mimetype": "text/x-python",
   "name": "python",
   "nbconvert_exporter": "python",
   "pygments_lexer": "ipython3",
   "version": "3.9.12"
  }
 },
 "nbformat": 4,
 "nbformat_minor": 5
}
