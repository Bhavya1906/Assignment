{
 "cells": [
  {
   "cell_type": "code",
   "execution_count": null,
   "id": "57ed316c",
   "metadata": {},
   "outputs": [],
   "source": [
    "1. In the below elements which of them are values or an expression? eg:- values can be integer or string and expressions will be mathematical operators.\n",
    "\n",
    "*         - Expression\n",
    "'hello'   - Value\n",
    "-87.8     - Value\n",
    "-         - Expression\n",
    "/         - Expression\n",
    "+         - Expression\n",
    "6         - Value"
   ]
  },
  {
   "cell_type": "code",
   "execution_count": null,
   "id": "92909cda",
   "metadata": {},
   "outputs": [],
   "source": [
    "2. What is the difference between string and variable?\n",
    "\n",
    "Variables are symbols that we can use to store data in a program whereas, a String is a type of data you would store in a Variable."
   ]
  },
  {
   "cell_type": "code",
   "execution_count": null,
   "id": "400b6ef1",
   "metadata": {},
   "outputs": [],
   "source": [
    "3. Describe three different data types.\n",
    "\n",
    "i) LIST: \n",
    "An ordered sequence of items is called List. It is a very flexible data type in Python. It can easily hold different types of data in Python.  \n",
    "The list is enclosed with SQUARE brackets[] and commas are used to separate the items. \n",
    "\n",
    "A list can look like this:\n",
    "\n",
    ">>> a = [5,9.9,’list’]\n",
    "\n",
    "ii) TUPLE:\n",
    "A Tuple is a sequence of items that are in order, and it is not possible to modify the Tuples. The main difference list and tuples are that tuple is immutable, which means it cannot be altered.Tuples can be represented by using parentheses (), and commas are used to separate the items. \n",
    "\n",
    "Tuples can look like this:\n",
    "\n",
    ">>> t = (6, 'tuple', 4+2j)\n",
    "\n",
    "iii) DICTIONARY:\n",
    "Dictionaries are used to store data values in key:value pairs.A dictionary is a collection which is ordered, changeable and do not allow duplicates. Dictionaries are written with curly brackets{}, and have keys and values.\n",
    "\n",
    "Dictionary can look like this:\n",
    "\n",
    ">>>dict =\t{  \"brand\": \"Ford\",  \"model\": \"Mustang\",  \"year\": 1964}"
   ]
  },
  {
   "cell_type": "code",
   "execution_count": null,
   "id": "cf8fd403",
   "metadata": {},
   "outputs": [],
   "source": [
    "4. What is an expression made up of? What do all expressions do?"
   ]
  },
  {
   "cell_type": "code",
   "execution_count": null,
   "id": "402437ed",
   "metadata": {},
   "outputs": [],
   "source": [
    "An expression is a combination of operators and operands that is interpreted to \n",
    "produce some other value"
   ]
  },
  {
   "cell_type": "code",
   "execution_count": null,
   "id": "b622984f",
   "metadata": {},
   "outputs": [],
   "source": [
    "5. This assignment statements, like spam = 10. What is the difference between an expression and a statement?"
   ]
  },
  {
   "cell_type": "code",
   "execution_count": null,
   "id": "94e254a9",
   "metadata": {},
   "outputs": [],
   "source": [
    "Expression is made up of values, literals, and mathematical operators (operands) and the statement is just like a command that a python interpreter executes like print."
   ]
  },
  {
   "cell_type": "code",
   "execution_count": null,
   "id": "f54cf805",
   "metadata": {},
   "outputs": [],
   "source": [
    "6. After running the following code, what does the variable bacon contain?"
   ]
  },
  {
   "cell_type": "code",
   "execution_count": 1,
   "id": "15c3953a",
   "metadata": {},
   "outputs": [
    {
     "data": {
      "text/plain": [
       "23"
      ]
     },
     "execution_count": 1,
     "metadata": {},
     "output_type": "execute_result"
    }
   ],
   "source": [
    "bacon = 22\n",
    "bacon+1"
   ]
  },
  {
   "cell_type": "code",
   "execution_count": null,
   "id": "66cede83",
   "metadata": {},
   "outputs": [],
   "source": [
    "7. What should the values of the following two terms be?"
   ]
  },
  {
   "cell_type": "code",
   "execution_count": 2,
   "id": "6b7e5108",
   "metadata": {},
   "outputs": [
    {
     "data": {
      "text/plain": [
       "'spamspamspam'"
      ]
     },
     "execution_count": 2,
     "metadata": {},
     "output_type": "execute_result"
    }
   ],
   "source": [
    "'spam'+'spamspam'"
   ]
  },
  {
   "cell_type": "code",
   "execution_count": 3,
   "id": "6eaaba31",
   "metadata": {},
   "outputs": [
    {
     "data": {
      "text/plain": [
       "'spamspamspam'"
      ]
     },
     "execution_count": 3,
     "metadata": {},
     "output_type": "execute_result"
    }
   ],
   "source": [
    "'spam'*3"
   ]
  },
  {
   "cell_type": "code",
   "execution_count": null,
   "id": "78ac2da9",
   "metadata": {},
   "outputs": [],
   "source": [
    "8. Why is eggs a valid variable name while 100 is invalid?\n",
    "\n",
    " Because variable names cannot begin with a number. A variable starts with a letter A to Z or a to z, or an underscore (_) followed by zero or more letters, underscores and digits (0 to 9). Python does not allow punctuation characters such as @, $, and % while naming a variable or identifiers. "
   ]
  },
  {
   "cell_type": "code",
   "execution_count": null,
   "id": "ce1d046a",
   "metadata": {},
   "outputs": [],
   "source": [
    "9. What three functions can be used to get the integer, floating-point number, or string\n",
    "version of a value?\n",
    "\n",
    "int()\n",
    "float()\n",
    "str()"
   ]
  },
  {
   "cell_type": "code",
   "execution_count": null,
   "id": "f0aba92f",
   "metadata": {},
   "outputs": [],
   "source": [
    "10. Why does this expression cause an error? How can you fix it?\n",
    "'I have eaten' + 99 + 'burritos'\n",
    "\n",
    "The reason for this error was that we cannot add an integer to a string in Python. Logically, we can combine an integer with another integer, and a string with another string of expression.\n",
    "\n",
    "By keeping the quotation marks around the 99, the error is fixed.10."
   ]
  },
  {
   "cell_type": "code",
   "execution_count": 4,
   "id": "0edcf44f",
   "metadata": {},
   "outputs": [
    {
     "data": {
      "text/plain": [
       "'I have eaten 99 burritos'"
      ]
     },
     "execution_count": 4,
     "metadata": {},
     "output_type": "execute_result"
    }
   ],
   "source": [
    "'I have eaten' + ' 99 ' + 'burritos'"
   ]
  }
 ],
 "metadata": {
  "kernelspec": {
   "display_name": "Python 3 (ipykernel)",
   "language": "python",
   "name": "python3"
  },
  "language_info": {
   "codemirror_mode": {
    "name": "ipython",
    "version": 3
   },
   "file_extension": ".py",
   "mimetype": "text/x-python",
   "name": "python",
   "nbconvert_exporter": "python",
   "pygments_lexer": "ipython3",
   "version": "3.9.7"
  }
 },
 "nbformat": 4,
 "nbformat_minor": 5
}
