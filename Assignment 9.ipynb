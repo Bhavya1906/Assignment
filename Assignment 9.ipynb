{
 "cells": [
  {
   "cell_type": "markdown",
   "id": "fac8e2f0",
   "metadata": {},
   "source": [
    "### 1. To what does a relative path refer?"
   ]
  },
  {
   "cell_type": "raw",
   "id": "ce61f294",
   "metadata": {},
   "source": [
    "It refers to a location that is relative to current directory"
   ]
  },
  {
   "cell_type": "markdown",
   "id": "bef2db82",
   "metadata": {},
   "source": [
    "### 2. What does an absolute path start with your operating system?"
   ]
  },
  {
   "cell_type": "raw",
   "id": "99dc0f48",
   "metadata": {},
   "source": [
    "Absolute path starts with a root folder, such as / or c:"
   ]
  },
  {
   "cell_type": "markdown",
   "id": "29d6f6d1",
   "metadata": {},
   "source": [
    "### 3. What do the functions os.getcwd() and os.chdir() do?"
   ]
  },
  {
   "cell_type": "raw",
   "id": "6ba24d91",
   "metadata": {},
   "source": [
    "os.getcwd() function returns the current working directory. \n",
    "os.chdir() function changes the current working directory."
   ]
  },
  {
   "cell_type": "markdown",
   "id": "6e10024f",
   "metadata": {},
   "source": [
    "### 4. What are the . and .. folders?"
   ]
  },
  {
   "cell_type": "raw",
   "id": "548fcc02",
   "metadata": {},
   "source": [
    "The .folder is the current folder, .. is parent folder"
   ]
  },
  {
   "cell_type": "markdown",
   "id": "4c7afc18",
   "metadata": {},
   "source": [
    "### 5. In C:\\bacon\\eggs\\spam.txt, which part is the dir name, and which part is the base name?"
   ]
  },
  {
   "cell_type": "raw",
   "id": "9d4e86ce",
   "metadata": {},
   "source": [
    "C:\\bacon\\eggs is the dir name and spam.txt is the base name."
   ]
  },
  {
   "cell_type": "markdown",
   "id": "7f7bde5c",
   "metadata": {},
   "source": [
    "### 6. What are the three “mode” arguments that can be passed to the open() function?"
   ]
  },
  {
   "cell_type": "raw",
   "id": "c553e216",
   "metadata": {},
   "source": [
    "'r' for read mode\n",
    "'w' for write mode\n",
    "'a' for append mode"
   ]
  },
  {
   "cell_type": "markdown",
   "id": "0eb53e1b",
   "metadata": {},
   "source": [
    "### 7. What happens if an existing file is opened in write mode?"
   ]
  },
  {
   "cell_type": "raw",
   "id": "2e2cacf7",
   "metadata": {},
   "source": [
    "when an existing file is opened in write mode, content that is already present will be overwritten."
   ]
  },
  {
   "cell_type": "markdown",
   "id": "ebe18a4d",
   "metadata": {},
   "source": [
    "### 8. How do you tell the difference between read() and readlines()?"
   ]
  },
  {
   "cell_type": "raw",
   "id": "063ae739",
   "metadata": {},
   "source": [
    "read() reads the entire contents in the file into a string\n",
    "readlines() reads the file till the next line"
   ]
  },
  {
   "cell_type": "markdown",
   "id": "3cd2f42c",
   "metadata": {},
   "source": [
    "### 9. What data structure does a shelf value resemble?"
   ]
  },
  {
   "cell_type": "raw",
   "id": "e7f6f9c0",
   "metadata": {},
   "source": [
    "A shelf value resembles a dictionery value; it has keys and values, along with keys() and values() methods that work similarly to the dictionary methods of the same names."
   ]
  }
 ],
 "metadata": {
  "kernelspec": {
   "display_name": "Python 3 (ipykernel)",
   "language": "python",
   "name": "python3"
  },
  "language_info": {
   "codemirror_mode": {
    "name": "ipython",
    "version": 3
   },
   "file_extension": ".py",
   "mimetype": "text/x-python",
   "name": "python",
   "nbconvert_exporter": "python",
   "pygments_lexer": "ipython3",
   "version": "3.9.12"
  }
 },
 "nbformat": 4,
 "nbformat_minor": 5
}
